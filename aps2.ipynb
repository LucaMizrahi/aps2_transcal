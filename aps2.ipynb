{
 "cells": [
  {
   "attachments": {},
   "cell_type": "markdown",
   "metadata": {},
   "source": [
    "## APS 2 - Transferência de Calor"
   ]
  },
  {
   "attachments": {},
   "cell_type": "markdown",
   "metadata": {},
   "source": [
    "### Luca Mizrahi, Gustavo Oliveira, Arthur Tamm"
   ]
  },
  {
   "attachments": {},
   "cell_type": "markdown",
   "metadata": {},
   "source": [
    "#### Tarefa 3"
   ]
  },
  {
   "cell_type": "code",
   "execution_count": 42,
   "metadata": {},
   "outputs": [],
   "source": [
    "import numpy as np\n",
    "import matplotlib.pyplot as plt"
   ]
  },
  {
   "cell_type": "code",
   "execution_count": 43,
   "metadata": {},
   "outputs": [],
   "source": [
    "K = 1 # m^2/s\n",
    "alpha = 1 # m/s\n",
    "T = 3 # s\n",
    "Q = 100 # kg / ms\n",
    "Lx = 30 # m\n",
    "Ly = 20 # m\n",
    "a = 1 / 1.4 # m\n",
    "b = 60 / 6 # m\n",
    "\n",
    "delta_x = 1  # m\n",
    "delta_y = delta_x # m\n",
    "delta_t = delta_x ** 2 / (4*K) - 0.01 # s\n",
    "# delta_t\n",
    "ERRO = 0.29\n",
    "\n",
    "tempo = np.arange(0, 10*T, delta_t)\n",
    "\n",
    "# Construir matriz de condições iniciais. Lembrando que o que é i no código é j na teoria, e vice versa.\n",
    "c = int(Lx/delta_x) + 1 # numero de colunas\n",
    "l = int(Ly/delta_y) + 1 # numero de linhas\n",
    "C = np.zeros((l, c))"
   ]
  },
  {
   "cell_type": "code",
   "execution_count": 44,
   "metadata": {},
   "outputs": [],
   "source": [
    "K = 1 # m^2/s\n",
    "alpha = 1 # m/s\n",
    "T = 2 # s\n",
    "Q = 80 # kg / ms\n",
    "Lx = 30 # m\n",
    "Ly = 30 # m\n",
    "a = 15 # m\n",
    "b = 15 # m\n",
    "\n",
    "delta_x = 0.5  # m\n",
    "delta_y = delta_x # m\n",
    "delta_t = 0.05 # s\n",
    "# delta_t\n",
    "ERRO = 0.1\n",
    "\n",
    "tempo = np.arange(0, 5, delta_t)\n",
    "\n",
    "# Construir matriz de condições iniciais. Lembrando que o que é i no código é j na teoria, e vice versa.\n",
    "c = int(Lx/delta_x) # numero de colunas\n",
    "l = int(Ly/delta_y) # numero de linhas\n",
    "C = np.zeros((l, c))"
   ]
  },
  {
   "cell_type": "code",
   "execution_count": 45,
   "metadata": {},
   "outputs": [
    {
     "data": {
      "text/plain": [
       "(60, 60)"
      ]
     },
     "execution_count": 45,
     "metadata": {},
     "output_type": "execute_result"
    }
   ],
   "source": [
    "c, l"
   ]
  },
  {
   "cell_type": "code",
   "execution_count": 46,
   "metadata": {},
   "outputs": [],
   "source": [
    "# Cf = C.copy()\n",
    "# Cp = C.copy()\n",
    "\n",
    "# for t in tempo:\n",
    "#     for i in range(0, l - 1):\n",
    "#         for j in range(0, c - 1):\n",
    "#             l_ = i\n",
    "#             c_ = j\n",
    "#             if i == 0:\n",
    "#                 l_= 1\n",
    "#             if i == l-1:\n",
    "#                 l_= l-2\n",
    "#             if j == 0:\n",
    "#                 c_ = 1\n",
    "#             if j == c-1:\n",
    "#                 c_= c-2\n",
    "#             if t > T:\n",
    "#                 qc = 0\n",
    "#             elif( abs(l_- b) <= ERRO and abs(c_- a) <= ERRO ):\n",
    "#                 print('entrei na condicao wow!')\n",
    "#                 qc = Q / (delta_x * delta_y) # kg / ms\n",
    "#             else: \n",
    "#                 qc = 0\n",
    "\n",
    "#             t1 = (Cp[l_][c_+1] - Cp[l_][c_-1]) / (2*delta_x)\n",
    "#             t2 = 0*np.sin(np.pi/5 * c_) * (Cp[l_+1][c_] - Cp[l_-1][c_]) / (2*delta_y)\n",
    "#             t3 = (Cp[l_][c_+1] - 2*Cp[l_][c_] + Cp[l_][c_-1]) / (delta_x**2)\n",
    "#             t4 = (Cp[l_+1][c_] - 2*Cp[l_][c_] + Cp[l_-1][c_]) / (delta_y**2)\n",
    "#             Cf[i][j] = Cp[l_][c_] + delta_t * (qc - alpha * (t1 + t2) + K * (t3 + t4))\n",
    "            \n",
    "#             if Cf[i][j] < 0:\n",
    "#                 Cf[i][j] = 0\n",
    "            \n",
    "#     # if(Erro.mal_() < 0.0001):\n",
    "#     #     print('Convergiu em ', 10*t, ' ms.')\n",
    "#     #     break\n",
    "#     Cp = Cf.copy()\n",
    "            "
   ]
  },
  {
   "cell_type": "code",
   "execution_count": 47,
   "metadata": {},
   "outputs": [],
   "source": [
    "Cf = C.copy()\n",
    "Cp = C.copy()\n",
    "ERRO = 0\n",
    "for t in tempo: \n",
    "    for i in range(1, l - 1):\n",
    "        for j in range(1, c - 1):\n",
    "\n",
    "            if((t <= T) and abs(i*delta_x - b) <= ERRO and abs(j*delta_y - a) <= ERRO ):\n",
    "                qc = Q / (delta_x * delta_y) # kg / ms\n",
    "            else: \n",
    "                qc = 0\n",
    "\n",
    "            t1 = (Cp[i][j+1] - Cp[i][j-1]) / (2*delta_x)\n",
    "            t2 = 0*np.sin(np.pi/5 * j) * (Cp[i+1][j] - Cp[i-1][j]) / (2*delta_y)\n",
    "            t3 = (Cp[i][j+1] - 2*Cp[i][j] + Cp[i][j-1]) / (delta_x**2)\n",
    "            t4 = (Cp[i+1][j] - 2*Cp[i][j] + Cp[i-1][j]) / (delta_y**2)\n",
    "            \n",
    "            Cf[i][j] = Cp[i][j] + delta_t * (qc - alpha * (t1 + t2) + K * (t3 + t4))\n",
    "            \n",
    "            if Cf[i][j] < 0:\n",
    "                Cf[i][j] = 0\n",
    "    \n",
    "    #Linha 0 = linha 1\n",
    "    Cf[0,:] = Cf[1,:]\n",
    "    #Linha l-1 = linha l-2\n",
    "    Cf[-1,:] = Cf[-2,:]\n",
    "    #Coluna 0 = coluna 1\n",
    "    Cf[:,0] = Cf[:,1]\n",
    "    #Coluna c-1 = coluna c-2\n",
    "    Cf[:,-1] = Cf[:,-2]\n",
    "\n",
    "\n",
    "    # if(Erro.mai() < 0.0001):\n",
    "    #     print('Convergiu em ', 10*t, ' ms.')\n",
    "    #     break\n",
    "    Cp = Cf.copy()\n",
    "            "
   ]
  },
  {
   "cell_type": "code",
   "execution_count": 48,
   "metadata": {},
   "outputs": [
    {
     "data": {
      "text/plain": [
       "3.3236350710035465"
      ]
     },
     "execution_count": 48,
     "metadata": {},
     "output_type": "execute_result"
    }
   ],
   "source": [
    "np.max(Cf)"
   ]
  },
  {
   "cell_type": "code",
   "execution_count": 49,
   "metadata": {},
   "outputs": [
    {
     "data": {
      "image/png": "[encoded data removed]",
      "text/plain": [
       "<Figure size 640x480 with 2 Axes>"
      ]
     },
     "metadata": {},
     "output_type": "display_data"
    }
   ],
   "source": [
    "plt.imshow(Cf, extent=[0,Lx,Ly,0], vmax = 1)\n",
    "plt.gca().invert_yaxis()\n",
    "\n",
    "cbar = plt.colorbar()"
   ]
  },
  {
   "cell_type": "code",
   "execution_count": 50,
   "metadata": {},
   "outputs": [
    {
     "data": {
      "text/plain": [
       "0.6125532769082151"
      ]
     },
     "execution_count": 50,
     "metadata": {},
     "output_type": "execute_result"
    }
   ],
   "source": [
    "Cf[40][40]"
   ]
  },
  {
   "cell_type": "code",
   "execution_count": 51,
   "metadata": {},
   "outputs": [
    {
     "ename": "NameError",
     "evalue": "name 'hfjhgm' is not defined",
     "output_type": "error",
     "traceback": [
      "\u001b[1;31m---------------------------------------------------------------------------\u001b[0m",
      "\u001b[1;31mNameError\u001b[0m                                 Traceback (most recent call last)",
      "\u001b[1;32mc:\\Users\\lucam\\OneDrive - Insper - Institudo de Ensino e Pesquisa\\Quinto Semestre - Engenharia\\TransCal\\APS2\\aps2_transcal\\aps2.ipynb Cell 13\u001b[0m line \u001b[0;36m1\n\u001b[1;32m----> <a href='vscode-notebook-cell:/c%3A/Users/lucam/OneDrive%20-%20Insper%20-%20Institudo%20de%20Ensino%20e%20Pesquisa/Quinto%20Semestre%20-%20Engenharia/TransCal/APS2/aps2_transcal/aps2.ipynb#X41sZmlsZQ%3D%3D?line=0'>1</a>\u001b[0m hfjhgm\n",
      "\u001b[1;31mNameError\u001b[0m: name 'hfjhgm' is not defined"
     ]
    }
   ],
   "source": [
    " hfjhgm"
   ]
  },
  {
   "cell_type": "code",
   "execution_count": null,
   "metadata": {},
   "outputs": [],
   "source": [
    "# # tempo = np.arange(0, 10, delta_t)\n",
    "# Cf = C.copy()\n",
    "# Cp = C.copy()\n",
    "# # Erro = np.zeros((l, c))\n",
    "# K = 1\n",
    "# for t in range(0, len(tempo)):\n",
    "#     for i in range(0, l - 1):\n",
    "#         for j in range(0, c - 1):\n",
    "#             x = j\n",
    "#             y = i\n",
    "#             if i==0:\n",
    "#                 y=1\n",
    "#             if i==l-1:\n",
    "#                 y=l-2\n",
    "#             if j==0:\n",
    "#                 x=1\n",
    "#             if j==c-1:\n",
    "#                 x=c-2\n",
    "#             if t > 3:\n",
    "#                 qc = 0\n",
    "#             if( abs(x-a) <= ERRO and abs(y-b) <= ERRO ):\n",
    "#                 # print('entrei na condicao wow!')\n",
    "#                 qc = Q / (delta_x * delta_y) # kg / ms\n",
    "#             else: \n",
    "#                 qc = 0\n",
    "\n",
    "#             termo1 = alpha*( (Cp[x+1][y] - C[x-1][y])/(2*delta_x) + np.sin(np.pi/5*j) * (Cp[x][y+1] - C[x][y-1])/(2*delta_y) )\n",
    "#             termo2 = K * ( (Cp[x+1][y] - 2*C[x][y] + Cp[x-1][y])/(delta_x**2) + (Cp[x][y+1] - 2*C[x][y] + Cp[x][y-1])/(delta_y**2) )\n",
    "#             Cf[x][y] = Cp[x][y] + delta_t*(qc - termo1 + termo2)\n",
    "            \n",
    "#             if Cf[x][y] < 0:\n",
    "#                 Cf[x][y] = 0\n",
    "            \n",
    "#     # if(Erro.max() < 0.0001):\n",
    "#     #     print('Convergiu em ', 10*t, ' ms.')\n",
    "#     #     break\n",
    "#     Cp = Cf.copy()\n",
    "\n",
    "# plt.imshow(Cf, cmap='coolwarm', interpolation='nearest')\n",
    "# plt.colorbar()  # Adicione uma barra de cores\n",
    "\n",
    "# # Mostre o mapa de calor\n",
    "# plt.show()\n",
    "            "
   ]
  },
  {
   "cell_type": "markdown",
   "metadata": {},
   "source": [
    "#### Tarefa 4"
   ]
  },
  {
   "cell_type": "code",
   "execution_count": null,
   "metadata": {},
   "outputs": [
    {
     "ename": "IndexError",
     "evalue": "index 21 is out of bounds for axis 0 with size 21",
     "output_type": "error",
     "traceback": [
      "\u001b[1;31m---------------------------------------------------------------------------\u001b[0m",
      "\u001b[1;31mIndexError\u001b[0m                                Traceback (most recent call last)",
      "\u001b[1;32mc:\\Users\\arthu\\Insper\\2023-2\\Transcal\\APS\\APS2\\aps2_transcal\\aps2.ipynb Cell 11\u001b[0m line \u001b[0;36m<cell line: 5>\u001b[1;34m()\u001b[0m\n\u001b[0;32m     <a href='vscode-notebook-cell:/c%3A/Users/arthu/Insper/2023-2/Transcal/APS/APS2/aps2_transcal/aps2.ipynb#X13sZmlsZQ%3D%3D?line=26'>27</a>\u001b[0m \u001b[39melse\u001b[39;00m: \n\u001b[0;32m     <a href='vscode-notebook-cell:/c%3A/Users/arthu/Insper/2023-2/Transcal/APS/APS2/aps2_transcal/aps2.ipynb#X13sZmlsZQ%3D%3D?line=27'>28</a>\u001b[0m     qc \u001b[39m=\u001b[39m \u001b[39m0\u001b[39m\n\u001b[1;32m---> <a href='vscode-notebook-cell:/c%3A/Users/arthu/Insper/2023-2/Transcal/APS/APS2/aps2_transcal/aps2.ipynb#X13sZmlsZQ%3D%3D?line=29'>30</a>\u001b[0m termo1 \u001b[39m=\u001b[39m alpha\u001b[39m*\u001b[39m( (Cp[x\u001b[39m+\u001b[39;49m\u001b[39m1\u001b[39;49m][y] \u001b[39m-\u001b[39m Cp[x\u001b[39m-\u001b[39m\u001b[39m1\u001b[39m][y])\u001b[39m/\u001b[39m(\u001b[39m2\u001b[39m\u001b[39m*\u001b[39mdelta_x) \u001b[39m+\u001b[39m np\u001b[39m.\u001b[39msin(np\u001b[39m.\u001b[39mpi\u001b[39m/\u001b[39m\u001b[39m5\u001b[39m\u001b[39m*\u001b[39mx) \u001b[39m*\u001b[39m (Cp[x][y\u001b[39m+\u001b[39m\u001b[39m1\u001b[39m] \u001b[39m-\u001b[39m Cp[x][y\u001b[39m-\u001b[39m\u001b[39m1\u001b[39m])\u001b[39m/\u001b[39m(\u001b[39m2\u001b[39m\u001b[39m*\u001b[39mdelta_y) )\n\u001b[0;32m     <a href='vscode-notebook-cell:/c%3A/Users/arthu/Insper/2023-2/Transcal/APS/APS2/aps2_transcal/aps2.ipynb#X13sZmlsZQ%3D%3D?line=30'>31</a>\u001b[0m termo2 \u001b[39m=\u001b[39m K \u001b[39m*\u001b[39m ( (Cp[x\u001b[39m+\u001b[39m\u001b[39m1\u001b[39m][y] \u001b[39m-\u001b[39m \u001b[39m2\u001b[39m\u001b[39m*\u001b[39mCp[x][y] \u001b[39m+\u001b[39m Cp[x\u001b[39m-\u001b[39m\u001b[39m1\u001b[39m][y])\u001b[39m/\u001b[39m(delta_x\u001b[39m*\u001b[39m\u001b[39m*\u001b[39m\u001b[39m2\u001b[39m) \u001b[39m+\u001b[39m (Cp[x][y\u001b[39m+\u001b[39m\u001b[39m1\u001b[39m] \u001b[39m-\u001b[39m \u001b[39m2\u001b[39m\u001b[39m*\u001b[39mCp[x][y] \u001b[39m+\u001b[39m Cp[x][y\u001b[39m-\u001b[39m\u001b[39m1\u001b[39m])\u001b[39m/\u001b[39m(delta_y\u001b[39m*\u001b[39m\u001b[39m*\u001b[39m\u001b[39m2\u001b[39m) )\n\u001b[0;32m     <a href='vscode-notebook-cell:/c%3A/Users/arthu/Insper/2023-2/Transcal/APS/APS2/aps2_transcal/aps2.ipynb#X13sZmlsZQ%3D%3D?line=31'>32</a>\u001b[0m Cf[x][y] \u001b[39m=\u001b[39m Cp[x][y] \u001b[39m+\u001b[39m delta_t\u001b[39m*\u001b[39m(qc \u001b[39m-\u001b[39m termo1 \u001b[39m+\u001b[39m termo2)\n",
      "\u001b[1;31mIndexError\u001b[0m: index 21 is out of bounds for axis 0 with size 21"
     ]
    },
    {
     "data": {
      "text/plain": [
       "<Figure size 1200x800 with 0 Axes>"
      ]
     },
     "metadata": {},
     "output_type": "display_data"
    }
   ],
   "source": [
    "K_list = [1, 2, 4, 5, 8, 10]\n",
    "\n",
    "plt.figure(figsize=(12, 8))\n",
    "\n",
    "for index, K in enumerate(K_list):\n",
    "    Cf = C.copy()\n",
    "    Cp = C.copy()\n",
    "    # Erro = np.zeros((l, c))\n",
    "    for t in range(0, len(tempo)):\n",
    "        for i in range(0, l - 1):\n",
    "            for j in range(0, c - 1):\n",
    "                x = j\n",
    "                y = i\n",
    "                if i==0:\n",
    "                    y=1\n",
    "                if i==l-1:\n",
    "                    y=l-2\n",
    "                if j==0:\n",
    "                    x=1\n",
    "                if j==c-1:\n",
    "                    x=c-2\n",
    "                if t > 3:\n",
    "                    qc = 0\n",
    "                if( abs(x-a) <= ERRO and abs(y-b) <= ERRO ):\n",
    "                    # print('entrei na condicao wow!')\n",
    "                    qc = Q / (delta_x * delta_y) # kg / ms\n",
    "                else: \n",
    "                    qc = 0\n",
    "\n",
    "                termo1 = alpha*( (Cp[x+1][y] - Cp[x-1][y])/(2*delta_x) + np.sin(np.pi/5*x) * (Cp[x][y+1] - Cp[x][y-1])/(2*delta_y) )\n",
    "                termo2 = K * ( (Cp[x+1][y] - 2*Cp[x][y] + Cp[x-1][y])/(delta_x**2) + (Cp[x][y+1] - 2*Cp[x][y] + Cp[x][y-1])/(delta_y**2) )\n",
    "                Cf[x][y] = Cp[x][y] + delta_t*(qc - termo1 + termo2)\n",
    "                \n",
    "                if Cf[x][y] < 0:\n",
    "                    Cf[x][y] = 0     \n",
    "        Cp = Cf.copy()\n",
    "\n",
    "    plt.subplot(2, 3, index + 1)\n",
    "    plt.imshow(Cf, cmap='coolwarm', interpolation='nearest')\n",
    "    plt.colorbar()  # Adicione uma barra de cores\n",
    "    plt.title('K = ' + str(K))\n",
    "\n",
    "    # Mostre o mapa de calor\n",
    "plt.show()\n",
    "            "
   ]
  },
  {
   "cell_type": "markdown",
   "metadata": {},
   "source": [
    "Quanto maior o K, maior a difusão do poluente."
   ]
  },
  {
   "cell_type": "code",
   "execution_count": null,
   "metadata": {},
   "outputs": [],
   "source": []
  }
 ],
 "metadata": {
  "kernelspec": {
   "display_name": "Python 3",
   "language": "python",
   "name": "python3"
  },
  "language_info": {
   "codemirror_mode": {
    "name": "ipython",
    "version": 3
   },
   "file_extension": ".py",
   "mimetype": "text/x-python",
   "name": "python",
   "nbconvert_exporter": "python",
   "pygments_lexer": "ipython3",
   "version": "3.11.3"
  },
  "orig_nbformat": 4
 },
 "nbformat": 4,
 "nbformat_minor": 2
}
